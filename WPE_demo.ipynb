{
 "cells": [
  {
   "cell_type": "code",
   "execution_count": 1,
   "id": "8fa17588-cb3e-42a6-b948-a7fba4fa3156",
   "metadata": {},
   "outputs": [],
   "source": [
    "import numpy as np\n",
    "from netCDF4 import Dataset\n",
    "import time\n",
    "import xarray as xr\n",
    "import math"
   ]
  },
  {
   "cell_type": "code",
   "execution_count": 2,
   "id": "1580ce64-7506-4566-a50d-1e583d6e2338",
   "metadata": {},
   "outputs": [],
   "source": [
    "def plus_360(ang):\n",
    "    new_ang = []\n",
    "    k = 0\n",
    "    new_ang.append(ang[0])\n",
    "    for i in range(len(ang)-1):\n",
    "        next_ang = ang[i+1]+k*360\n",
    "        if (ang[i] > 135)&(ang[i+1] < -135):\n",
    "            k = k + 1\n",
    "            next_ang = ang[i+1]+k*360\n",
    "        if (ang[i] < -135)&(ang[i+1] > 135):\n",
    "            k = k - 1\n",
    "            next_ang = ang[i+1]+k*360\n",
    "        \n",
    "        new_ang.append(next_ang)\n",
    "    return new_ang\n",
    "              \n",
    "\n",
    "def w_PE(tau, d_embd,rmm_series):\n",
    "    m = d_embd - 1\n",
    "    N = len(rmm_series) - m*tau\n",
    "    \n",
    "    state1 = np.zeros((N,m+1))\n",
    "    for i in range(m+1):\n",
    "        state1[:,i] = rmm_series[tau*i:tau*i+N]\n",
    "    order_list = []  \n",
    "    w_list = []\n",
    "    for i in range(N):\n",
    "        temp = state1[i]\n",
    "        order = np.argsort(np.argsort(temp))\n",
    "        order_list.append(list(order))\n",
    "        w = np.var(temp)\n",
    "        w_list.append(w)\n",
    "    \n",
    "    unique_order_list = []\n",
    "    w_count_list = []\n",
    "    count_list = []\n",
    "    k = -1\n",
    "    for item in order_list:\n",
    "        k = k+1\n",
    "        if item not in unique_order_list:\n",
    "            unique_order_list.append(item)\n",
    "            w_count_list.append(w_list[k])\n",
    "            count_list.append(1)\n",
    "        else:\n",
    "            for i in range(len(unique_order_list)):\n",
    "                if item == unique_order_list[i]:\n",
    "                    w_count_list[i] = w_count_list[i] + w_list[k]\n",
    "                    count_list[i] = count_list[i] + 1\n",
    "    w_p_list = []                \n",
    "    for i in range(len(unique_order_list)):\n",
    "        w_p_list.append(w_count_list[i]/np.sum(w_list))\n",
    "        \n",
    "    WPE = 0\n",
    "    for i in range(len(w_p_list)):\n",
    "        WPE = WPE - w_p_list[i]*np.log2(w_p_list[i])\n",
    "        \n",
    "    n_WPE = WPE/np.log2(math.factorial(m+1))\n",
    "    possible = math.factorial(m+1)\n",
    "    \n",
    "    return n_WPE,len(unique_order_list),possible,unique_order_list,w_p_list,w_count_list,count_list\n",
    "        "
   ]
  },
  {
   "cell_type": "code",
   "execution_count": 3,
   "id": "030f4f59-44f5-4f8c-8b7f-d94a72d24e3a",
   "metadata": {},
   "outputs": [
    {
     "name": "stdout",
     "output_type": "stream",
     "text": [
      "CPU times: user 339 ms, sys: 2.56 ms, total: 341 ms\n",
      "Wall time: 357 ms\n"
     ]
    }
   ],
   "source": [
    "%%time\n",
    "# load a dataset\n",
    "nc = Dataset('WACCM_r1i1p1f1_2015-2024.nc')\n",
    "rmm1 = nc['RMM1'][:]\n",
    "rmm2 = nc['RMM2'][:]\n",
    "amp = nc['RMMind'][:]\n",
    "phase = nc['RMMphase'][:]\n",
    "# computing the propagation time series\n",
    "ang = []\n",
    "for i in range(len(rmm1)):\n",
    "    ang.append(np.degrees(np.arctan2(rmm2[i],rmm1[i])))\n",
    "ang = plus_360(ang)\n",
    "    \n",
    "    \n",
    "tau = 3\n",
    "d_embd = 3\n",
    "\n",
    "\n",
    "rmm1_PE = w_PE(tau, d_embd,rmm1)\n",
    "rmm2_PE = w_PE(tau, d_embd,rmm2)\n",
    "amp_PE = w_PE(tau, d_embd,amp)\n",
    "ang_PE = w_PE(tau, d_embd,ang)"
   ]
  },
  {
   "cell_type": "code",
   "execution_count": 4,
   "id": "3a7b81c3-7532-4a7b-9398-11d9c42a3b89",
   "metadata": {},
   "outputs": [
    {
     "data": {
      "text/plain": [
       "(0.7130896213604492,\n",
       " 6,\n",
       " 6,\n",
       " [[2, 1, 0], [2, 0, 1], [1, 0, 2], [0, 1, 2], [0, 2, 1], [1, 2, 0]],\n",
       " [0.4126604606374006,\n",
       "  0.04924013931677173,\n",
       "  0.03879531295674718,\n",
       "  0.4120778597726686,\n",
       "  0.039171816947203,\n",
       "  0.048054410369208114],\n",
       " [332.06461555239093,\n",
       "  39.623151456561054,\n",
       "  31.218282125499478,\n",
       "  331.5958012350006,\n",
       "  31.521251914879205,\n",
       "  38.66900473139655],\n",
       " [1050, 387, 347, 1129, 344, 387])"
      ]
     },
     "execution_count": 4,
     "metadata": {},
     "output_type": "execute_result"
    }
   ],
   "source": [
    "rmm1_PE\n",
    "#WPE\n",
    "# # of unique permutations existed\n",
    "# # of possible permutations\n",
    "# permutations\n",
    "# the corresponding weighted occurrence freq\n",
    "# the corresponding weighted counts\n",
    "# the corresponding counts"
   ]
  },
  {
   "cell_type": "code",
   "execution_count": 5,
   "id": "ff017876-2fa8-4ccc-abc9-e31881c13db2",
   "metadata": {},
   "outputs": [
    {
     "data": {
      "text/plain": [
       "(0.7302634572658374,\n",
       " 6,\n",
       " 6,\n",
       " [[2, 1, 0], [2, 0, 1], [1, 0, 2], [0, 1, 2], [0, 2, 1], [1, 2, 0]],\n",
       " [0.40236776175807953,\n",
       "  0.04616691974411548,\n",
       "  0.050688395439499274,\n",
       "  0.40858114596561707,\n",
       "  0.04187031351114822,\n",
       "  0.05032546358153994],\n",
       " [251.43034553858575,\n",
       "  28.848644665260707,\n",
       "  31.674010672386743,\n",
       "  255.3129462008238,\n",
       "  26.163794405195095,\n",
       "  31.447222914702166],\n",
       " [1058, 382, 371, 1083, 355, 395])"
      ]
     },
     "execution_count": 5,
     "metadata": {},
     "output_type": "execute_result"
    }
   ],
   "source": [
    "rmm2_PE"
   ]
  },
  {
   "cell_type": "code",
   "execution_count": 6,
   "id": "2507bd40-a2e2-4b3d-9c5e-d6b4c6c399d8",
   "metadata": {},
   "outputs": [
    {
     "data": {
      "text/plain": [
       "(0.8386061979553419,\n",
       " 6,\n",
       " 6,\n",
       " [[2, 0, 1], [1, 0, 2], [0, 1, 2], [0, 2, 1], [1, 2, 0], [2, 1, 0]],\n",
       " [0.07070956812463292,\n",
       "  0.07450776584871215,\n",
       "  0.3437445947510657,\n",
       "  0.07332315994806281,\n",
       "  0.07564007478044629,\n",
       "  0.3620748365470799],\n",
       " [26.619599371626645,\n",
       "  28.04948367767986,\n",
       "  129.40742874156862,\n",
       "  27.603522327258812,\n",
       "  28.47575710752955,\n",
       "  136.30810294926414],\n",
       " [436, 427, 959, 410, 453, 959])"
      ]
     },
     "execution_count": 6,
     "metadata": {},
     "output_type": "execute_result"
    }
   ],
   "source": [
    "amp_PE"
   ]
  },
  {
   "cell_type": "code",
   "execution_count": 7,
   "id": "02493f4e-1690-446a-a3f9-dd9c793747e9",
   "metadata": {},
   "outputs": [
    {
     "data": {
      "text/plain": [
       "(0.7106449654355322,\n",
       " 6,\n",
       " 6,\n",
       " [[2, 1, 0], [2, 0, 1], [0, 1, 2], [1, 2, 0], [0, 2, 1], [1, 0, 2]],\n",
       " [0.08792412939925008,\n",
       "  0.0946068663349788,\n",
       "  0.6146813112513705,\n",
       "  0.09641746401184917,\n",
       "  0.057171376691134555,\n",
       "  0.04919885231141802],\n",
       " [426879.0387169345,\n",
       "  459324.2882589375,\n",
       "  2984329.433308985,\n",
       "  468114.8921703608,\n",
       "  277571.8393891021,\n",
       "  238864.5633931484],\n",
       " [338, 269, 2207, 276, 272, 282])"
      ]
     },
     "execution_count": 7,
     "metadata": {},
     "output_type": "execute_result"
    }
   ],
   "source": [
    "ang_PE"
   ]
  },
  {
   "cell_type": "code",
   "execution_count": null,
   "id": "59052eac-21d1-48ef-93a8-2d868ebdd063",
   "metadata": {},
   "outputs": [],
   "source": []
  }
 ],
 "metadata": {
  "kernelspec": {
   "display_name": "CMIP6 2019.10a",
   "language": "python",
   "name": "cmip6-201910a"
  },
  "language_info": {
   "codemirror_mode": {
    "name": "ipython",
    "version": 3
   },
   "file_extension": ".py",
   "mimetype": "text/x-python",
   "name": "python",
   "nbconvert_exporter": "python",
   "pygments_lexer": "ipython3",
   "version": "3.7.3"
  }
 },
 "nbformat": 4,
 "nbformat_minor": 5
}
